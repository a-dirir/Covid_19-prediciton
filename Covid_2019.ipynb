{
  "nbformat": 4,
  "nbformat_minor": 0,
  "metadata": {
    "colab": {
      "name": "Covid_2019 Final.ipynb",
      "provenance": [],
      "collapsed_sections": []
    },
    "kernelspec": {
      "name": "python3",
      "display_name": "Python 3"
    }
  },
  "cells": [
    {
      "cell_type": "code",
      "metadata": {
        "id": "kIQrNfAFqK8x",
        "colab_type": "code",
        "outputId": "2045dd76-d6e8-467e-8651-3db1bfff6173",
        "colab": {
          "base_uri": "https://localhost:8080/",
          "height": 90
        }
      },
      "source": [
        "import os\n",
        "import glob\n",
        "import h5py\n",
        "import shutil\n",
        "import imgaug as aug\n",
        "import numpy as np\n",
        "import pandas as pd\n",
        "import seaborn as sns\n",
        "import matplotlib.pyplot as plt\n",
        "import matplotlib.image as mimg\n",
        "import imgaug.augmenters as iaa\n",
        "from os import listdir, makedirs, getcwd, remove\n",
        "from os.path import *\n",
        "from PIL import Image\n",
        "from pathlib import Path\n",
        "from skimage.io import imread\n",
        "from skimage.transform import resize\n",
        "from keras.models import Sequential, Model\n",
        "from keras.applications.vgg16 import VGG16, preprocess_input\n",
        "from keras.preprocessing.image import ImageDataGenerator,load_img, img_to_array\n",
        "from keras.models import Sequential\n",
        "from keras.layers import Conv2D, MaxPooling2D, Dense, Dropout, Input, Flatten, SeparableConv2D, Lambda\n",
        "from keras.layers import GlobalMaxPooling2D\n",
        "from keras.layers.normalization import BatchNormalization\n",
        "from keras.layers.merge import Concatenate\n",
        "from keras.models import Model\n",
        "from keras.optimizers import Adam, SGD, RMSprop\n",
        "from keras.callbacks import ModelCheckpoint, Callback, EarlyStopping\n",
        "from keras.utils import to_categorical\n",
        "from sklearn.model_selection import train_test_split\n",
        "from sklearn.preprocessing import StandardScaler\n",
        "from mlxtend.plotting import plot_confusion_matrix\n",
        "from sklearn.metrics import confusion_matrix\n",
        "import cv2\n",
        "from keras import backend as K\n",
        "import cv2                 # working with, mainly resizing, images\n",
        "import numpy as np         # dealing with arrays\n",
        "import os                  # dealing with directories\n",
        "from random import shuffle # mixing up or currently ordered data that might lead our network astray in training.\n",
        "from tqdm import tqdm      # a nice pretty percentage bar for tasks. Thanks to viewer Daniel BA1/4hler for this suggestion\n",
        "color = sns.color_palette()\n",
        "%matplotlib inline\n"
      ],
      "execution_count": 0,
      "outputs": [
        {
          "output_type": "stream",
          "text": [
            "/usr/local/lib/python3.6/dist-packages/statsmodels/tools/_testing.py:19: FutureWarning: pandas.util.testing is deprecated. Use the functions in the public API at pandas.testing instead.\n",
            "  import pandas.util.testing as tm\n",
            "Using TensorFlow backend.\n"
          ],
          "name": "stderr"
        }
      ]
    },
    {
      "cell_type": "code",
      "metadata": {
        "id": "jTk4g044iy0j",
        "colab_type": "code",
        "colab": {}
      },
      "source": [
        "np.random.seed(111)\n",
        "aug.seed(111)"
      ],
      "execution_count": 0,
      "outputs": []
    },
    {
      "cell_type": "code",
      "metadata": {
        "id": "MY_0cAGJoBo9",
        "colab_type": "code",
        "outputId": "318cb57e-127d-4b8f-afd3-db2760d52bbf",
        "colab": {
          "base_uri": "https://localhost:8080/",
          "height": 158
        }
      },
      "source": [
        "!git clone https://github.com/ieee8023/covid-chestxray-dataset.git"
      ],
      "execution_count": 0,
      "outputs": [
        {
          "output_type": "stream",
          "text": [
            "Cloning into 'covid-chestxray-dataset'...\n",
            "remote: Enumerating objects: 125, done.\u001b[K\n",
            "remote: Counting objects:   0% (1/125)\u001b[K\rremote: Counting objects:   1% (2/125)\u001b[K\rremote: Counting objects:   2% (3/125)\u001b[K\rremote: Counting objects:   3% (4/125)\u001b[K\rremote: Counting objects:   4% (5/125)\u001b[K\rremote: Counting objects:   5% (7/125)\u001b[K\rremote: Counting objects:   6% (8/125)\u001b[K\rremote: Counting objects:   7% (9/125)\u001b[K\rremote: Counting objects:   8% (10/125)\u001b[K\rremote: Counting objects:   9% (12/125)\u001b[K\rremote: Counting objects:  10% (13/125)\u001b[K\rremote: Counting objects:  11% (14/125)\u001b[K\rremote: Counting objects:  12% (15/125)\u001b[K\rremote: Counting objects:  13% (17/125)\u001b[K\rremote: Counting objects:  14% (18/125)\u001b[K\rremote: Counting objects:  15% (19/125)\u001b[K\rremote: Counting objects:  16% (20/125)\u001b[K\rremote: Counting objects:  17% (22/125)\u001b[K\rremote: Counting objects:  18% (23/125)\u001b[K\rremote: Counting objects:  19% (24/125)\u001b[K\rremote: Counting objects:  20% (25/125)\u001b[K\rremote: Counting objects:  21% (27/125)\u001b[K\rremote: Counting objects:  22% (28/125)\u001b[K\rremote: Counting objects:  23% (29/125)\u001b[K\rremote: Counting objects:  24% (30/125)\u001b[K\rremote: Counting objects:  25% (32/125)\u001b[K\rremote: Counting objects:  26% (33/125)\u001b[K\rremote: Counting objects:  27% (34/125)\u001b[K\rremote: Counting objects:  28% (35/125)\u001b[K\rremote: Counting objects:  29% (37/125)\u001b[K\rremote: Counting objects:  30% (38/125)\u001b[K\rremote: Counting objects:  31% (39/125)\u001b[K\rremote: Counting objects:  32% (40/125)\u001b[K\rremote: Counting objects:  33% (42/125)\u001b[K\rremote: Counting objects:  34% (43/125)\u001b[K\rremote: Counting objects:  35% (44/125)\u001b[K\rremote: Counting objects:  36% (45/125)\u001b[K\rremote: Counting objects:  37% (47/125)\u001b[K\rremote: Counting objects:  38% (48/125)\u001b[K\rremote: Counting objects:  39% (49/125)\u001b[K\rremote: Counting objects:  40% (50/125)\u001b[K\rremote: Counting objects:  41% (52/125)\u001b[K\rremote: Counting objects:  42% (53/125)\u001b[K\rremote: Counting objects:  43% (54/125)\u001b[K\rremote: Counting objects:  44% (55/125)\u001b[K\rremote: Counting objects:  45% (57/125)\u001b[K\rremote: Counting objects:  46% (58/125)\u001b[K\rremote: Counting objects:  47% (59/125)\u001b[K\rremote: Counting objects:  48% (60/125)\u001b[K\rremote: Counting objects:  49% (62/125)\u001b[K\rremote: Counting objects:  50% (63/125)\u001b[K\rremote: Counting objects:  51% (64/125)\u001b[K\rremote: Counting objects:  52% (65/125)\u001b[K\rremote: Counting objects:  53% (67/125)\u001b[K\rremote: Counting objects:  54% (68/125)\u001b[K\rremote: Counting objects:  55% (69/125)\u001b[K\rremote: Counting objects:  56% (70/125)\u001b[K\rremote: Counting objects:  57% (72/125)\u001b[K\rremote: Counting objects:  58% (73/125)\u001b[K\rremote: Counting objects:  59% (74/125)\u001b[K\rremote: Counting objects:  60% (75/125)\u001b[K\rremote: Counting objects:  61% (77/125)\u001b[K\rremote: Counting objects:  62% (78/125)\u001b[K\rremote: Counting objects:  63% (79/125)\u001b[K\rremote: Counting objects:  64% (80/125)\u001b[K\rremote: Counting objects:  65% (82/125)\u001b[K\rremote: Counting objects:  66% (83/125)\u001b[K\rremote: Counting objects:  67% (84/125)\u001b[K\rremote: Counting objects:  68% (85/125)\u001b[K\rremote: Counting objects:  69% (87/125)\u001b[K\rremote: Counting objects:  70% (88/125)\u001b[K\rremote: Counting objects:  71% (89/125)\u001b[K\rremote: Counting objects:  72% (90/125)\u001b[K\rremote: Counting objects:  73% (92/125)\u001b[K\rremote: Counting objects:  74% (93/125)\u001b[K\rremote: Counting objects:  75% (94/125)\u001b[K\rremote: Counting objects:  76% (95/125)\u001b[K\rremote: Counting objects:  77% (97/125)\u001b[K\rremote: Counting objects:  78% (98/125)\u001b[K\rremote: Counting objects:  79% (99/125)\u001b[K\rremote: Counting objects:  80% (100/125)\u001b[K\rremote: Counting objects:  81% (102/125)\u001b[K\rremote: Counting objects:  82% (103/125)\u001b[K\rremote: Counting objects:  83% (104/125)\u001b[K\rremote: Counting objects:  84% (105/125)\u001b[K\rremote: Counting objects:  85% (107/125)\u001b[K\rremote: Counting objects:  86% (108/125)\u001b[K\rremote: Counting objects:  87% (109/125)\u001b[K\rremote: Counting objects:  88% (110/125)\u001b[K\rremote: Counting objects:  89% (112/125)\u001b[K\rremote: Counting objects:  90% (113/125)\u001b[K\rremote: Counting objects:  91% (114/125)\u001b[K\rremote: Counting objects:  92% (115/125)\u001b[K\rremote: Counting objects:  93% (117/125)\u001b[K\rremote: Counting objects:  94% (118/125)\u001b[K\rremote: Counting objects:  95% (119/125)\u001b[K\rremote: Counting objects:  96% (120/125)\u001b[K\rremote: Counting objects:  97% (122/125)\u001b[K\rremote: Counting objects:  98% (123/125)\u001b[K\rremote: Counting objects:  99% (124/125)\u001b[K\rremote: Counting objects: 100% (125/125)\u001b[K\rremote: Counting objects: 100% (125/125), done.\u001b[K\n",
            "remote: Compressing objects: 100% (70/70), done.\u001b[K\n",
            "remote: Total 1741 (delta 69), reused 84 (delta 55), pack-reused 1616\u001b[K\n",
            "Receiving objects: 100% (1741/1741), 221.08 MiB | 36.15 MiB/s, done.\n",
            "Resolving deltas: 100% (843/843), done.\n",
            "Checking out files: 100% (357/357), done.\n"
          ],
          "name": "stdout"
        }
      ]
    },
    {
      "cell_type": "code",
      "metadata": {
        "id": "rq-m4ziiqDb0",
        "colab_type": "code",
        "outputId": "57500488-54c9-44be-e6a7-6a4fed33eccc",
        "colab": {
          "base_uri": "https://localhost:8080/",
          "height": 460
        }
      },
      "source": [
        "data = pd.read_csv(\"covid-chestxray-dataset/metadata.csv\")\n",
        "data.describe(include='all') "
      ],
      "execution_count": 0,
      "outputs": [
        {
          "output_type": "execute_result",
          "data": {
            "text/html": [
              "<div>\n",
              "<style scoped>\n",
              "    .dataframe tbody tr th:only-of-type {\n",
              "        vertical-align: middle;\n",
              "    }\n",
              "\n",
              "    .dataframe tbody tr th {\n",
              "        vertical-align: top;\n",
              "    }\n",
              "\n",
              "    .dataframe thead th {\n",
              "        text-align: right;\n",
              "    }\n",
              "</style>\n",
              "<table border=\"1\" class=\"dataframe\">\n",
              "  <thead>\n",
              "    <tr style=\"text-align: right;\">\n",
              "      <th></th>\n",
              "      <th>patientid</th>\n",
              "      <th>offset</th>\n",
              "      <th>sex</th>\n",
              "      <th>age</th>\n",
              "      <th>finding</th>\n",
              "      <th>survival</th>\n",
              "      <th>intubated</th>\n",
              "      <th>intubation_present</th>\n",
              "      <th>went_icu</th>\n",
              "      <th>needed_supplemental_O2</th>\n",
              "      <th>extubated</th>\n",
              "      <th>temperature</th>\n",
              "      <th>pO2_saturation</th>\n",
              "      <th>leukocyte_count</th>\n",
              "      <th>neutrophil_count</th>\n",
              "      <th>lymphocyte_count</th>\n",
              "      <th>view</th>\n",
              "      <th>modality</th>\n",
              "      <th>date</th>\n",
              "      <th>location</th>\n",
              "      <th>folder</th>\n",
              "      <th>filename</th>\n",
              "      <th>doi</th>\n",
              "      <th>url</th>\n",
              "      <th>license</th>\n",
              "      <th>clinical_notes</th>\n",
              "      <th>other_notes</th>\n",
              "      <th>Unnamed: 27</th>\n",
              "    </tr>\n",
              "  </thead>\n",
              "  <tbody>\n",
              "    <tr>\n",
              "      <th>count</th>\n",
              "      <td>360.000000</td>\n",
              "      <td>264.000000</td>\n",
              "      <td>317</td>\n",
              "      <td>306.000000</td>\n",
              "      <td>360</td>\n",
              "      <td>109</td>\n",
              "      <td>72</td>\n",
              "      <td>65</td>\n",
              "      <td>28</td>\n",
              "      <td>12</td>\n",
              "      <td>16</td>\n",
              "      <td>33.000000</td>\n",
              "      <td>41.000000</td>\n",
              "      <td>11.000000</td>\n",
              "      <td>2.000000</td>\n",
              "      <td>9.000000</td>\n",
              "      <td>360</td>\n",
              "      <td>360</td>\n",
              "      <td>291</td>\n",
              "      <td>242</td>\n",
              "      <td>360</td>\n",
              "      <td>360</td>\n",
              "      <td>104</td>\n",
              "      <td>360</td>\n",
              "      <td>197</td>\n",
              "      <td>350</td>\n",
              "      <td>222</td>\n",
              "      <td>4</td>\n",
              "    </tr>\n",
              "    <tr>\n",
              "      <th>unique</th>\n",
              "      <td>NaN</td>\n",
              "      <td>NaN</td>\n",
              "      <td>2</td>\n",
              "      <td>NaN</td>\n",
              "      <td>11</td>\n",
              "      <td>2</td>\n",
              "      <td>2</td>\n",
              "      <td>2</td>\n",
              "      <td>2</td>\n",
              "      <td>2</td>\n",
              "      <td>2</td>\n",
              "      <td>NaN</td>\n",
              "      <td>NaN</td>\n",
              "      <td>NaN</td>\n",
              "      <td>NaN</td>\n",
              "      <td>NaN</td>\n",
              "      <td>7</td>\n",
              "      <td>2</td>\n",
              "      <td>63</td>\n",
              "      <td>52</td>\n",
              "      <td>2</td>\n",
              "      <td>360</td>\n",
              "      <td>32</td>\n",
              "      <td>173</td>\n",
              "      <td>7</td>\n",
              "      <td>275</td>\n",
              "      <td>97</td>\n",
              "      <td>3</td>\n",
              "    </tr>\n",
              "    <tr>\n",
              "      <th>top</th>\n",
              "      <td>NaN</td>\n",
              "      <td>NaN</td>\n",
              "      <td>M</td>\n",
              "      <td>NaN</td>\n",
              "      <td>COVID-19</td>\n",
              "      <td>Y</td>\n",
              "      <td>Y</td>\n",
              "      <td>Y</td>\n",
              "      <td>Y</td>\n",
              "      <td>Y</td>\n",
              "      <td>Y</td>\n",
              "      <td>NaN</td>\n",
              "      <td>NaN</td>\n",
              "      <td>NaN</td>\n",
              "      <td>NaN</td>\n",
              "      <td>NaN</td>\n",
              "      <td>PA</td>\n",
              "      <td>X-ray</td>\n",
              "      <td>2020</td>\n",
              "      <td>Italy</td>\n",
              "      <td>images</td>\n",
              "      <td>SARS-10.1148rg.242035193-g04mr34g07b-Fig7b-day...</td>\n",
              "      <td>10.1148/rg.242035193</td>\n",
              "      <td>https://pubs.rsna.org/doi/10.1148/rg.242035193</td>\n",
              "      <td>CC BY-NC-SA</td>\n",
              "      <td>Small consolidation in right upper lobe and gr...</td>\n",
              "      <td>Credit to Omir Antunes Paiva, Dr. Rodrigo Caru...</td>\n",
              "      <td>Case courtesy of Dr Edgar Lorente, Radiopaedia...</td>\n",
              "    </tr>\n",
              "    <tr>\n",
              "      <th>freq</th>\n",
              "      <td>NaN</td>\n",
              "      <td>NaN</td>\n",
              "      <td>200</td>\n",
              "      <td>NaN</td>\n",
              "      <td>284</td>\n",
              "      <td>82</td>\n",
              "      <td>62</td>\n",
              "      <td>35</td>\n",
              "      <td>25</td>\n",
              "      <td>7</td>\n",
              "      <td>8</td>\n",
              "      <td>NaN</td>\n",
              "      <td>NaN</td>\n",
              "      <td>NaN</td>\n",
              "      <td>NaN</td>\n",
              "      <td>NaN</td>\n",
              "      <td>194</td>\n",
              "      <td>316</td>\n",
              "      <td>149</td>\n",
              "      <td>63</td>\n",
              "      <td>339</td>\n",
              "      <td>1</td>\n",
              "      <td>11</td>\n",
              "      <td>11</td>\n",
              "      <td>140</td>\n",
              "      <td>5</td>\n",
              "      <td>10</td>\n",
              "      <td>2</td>\n",
              "    </tr>\n",
              "    <tr>\n",
              "      <th>mean</th>\n",
              "      <td>96.916667</td>\n",
              "      <td>6.477273</td>\n",
              "      <td>NaN</td>\n",
              "      <td>55.826797</td>\n",
              "      <td>NaN</td>\n",
              "      <td>NaN</td>\n",
              "      <td>NaN</td>\n",
              "      <td>NaN</td>\n",
              "      <td>NaN</td>\n",
              "      <td>NaN</td>\n",
              "      <td>NaN</td>\n",
              "      <td>39.903030</td>\n",
              "      <td>87.982927</td>\n",
              "      <td>5.454545</td>\n",
              "      <td>3.590000</td>\n",
              "      <td>0.962222</td>\n",
              "      <td>NaN</td>\n",
              "      <td>NaN</td>\n",
              "      <td>NaN</td>\n",
              "      <td>NaN</td>\n",
              "      <td>NaN</td>\n",
              "      <td>NaN</td>\n",
              "      <td>NaN</td>\n",
              "      <td>NaN</td>\n",
              "      <td>NaN</td>\n",
              "      <td>NaN</td>\n",
              "      <td>NaN</td>\n",
              "      <td>NaN</td>\n",
              "    </tr>\n",
              "    <tr>\n",
              "      <th>std</th>\n",
              "      <td>60.098005</td>\n",
              "      <td>7.025717</td>\n",
              "      <td>NaN</td>\n",
              "      <td>15.834784</td>\n",
              "      <td>NaN</td>\n",
              "      <td>NaN</td>\n",
              "      <td>NaN</td>\n",
              "      <td>NaN</td>\n",
              "      <td>NaN</td>\n",
              "      <td>NaN</td>\n",
              "      <td>NaN</td>\n",
              "      <td>9.924511</td>\n",
              "      <td>11.327928</td>\n",
              "      <td>2.954828</td>\n",
              "      <td>2.771859</td>\n",
              "      <td>0.375326</td>\n",
              "      <td>NaN</td>\n",
              "      <td>NaN</td>\n",
              "      <td>NaN</td>\n",
              "      <td>NaN</td>\n",
              "      <td>NaN</td>\n",
              "      <td>NaN</td>\n",
              "      <td>NaN</td>\n",
              "      <td>NaN</td>\n",
              "      <td>NaN</td>\n",
              "      <td>NaN</td>\n",
              "      <td>NaN</td>\n",
              "      <td>NaN</td>\n",
              "    </tr>\n",
              "    <tr>\n",
              "      <th>min</th>\n",
              "      <td>2.000000</td>\n",
              "      <td>-5.000000</td>\n",
              "      <td>NaN</td>\n",
              "      <td>12.000000</td>\n",
              "      <td>NaN</td>\n",
              "      <td>NaN</td>\n",
              "      <td>NaN</td>\n",
              "      <td>NaN</td>\n",
              "      <td>NaN</td>\n",
              "      <td>NaN</td>\n",
              "      <td>NaN</td>\n",
              "      <td>36.400000</td>\n",
              "      <td>50.000000</td>\n",
              "      <td>0.220000</td>\n",
              "      <td>1.630000</td>\n",
              "      <td>0.600000</td>\n",
              "      <td>NaN</td>\n",
              "      <td>NaN</td>\n",
              "      <td>NaN</td>\n",
              "      <td>NaN</td>\n",
              "      <td>NaN</td>\n",
              "      <td>NaN</td>\n",
              "      <td>NaN</td>\n",
              "      <td>NaN</td>\n",
              "      <td>NaN</td>\n",
              "      <td>NaN</td>\n",
              "      <td>NaN</td>\n",
              "      <td>NaN</td>\n",
              "    </tr>\n",
              "    <tr>\n",
              "      <th>25%</th>\n",
              "      <td>39.750000</td>\n",
              "      <td>2.000000</td>\n",
              "      <td>NaN</td>\n",
              "      <td>45.000000</td>\n",
              "      <td>NaN</td>\n",
              "      <td>NaN</td>\n",
              "      <td>NaN</td>\n",
              "      <td>NaN</td>\n",
              "      <td>NaN</td>\n",
              "      <td>NaN</td>\n",
              "      <td>NaN</td>\n",
              "      <td>37.800000</td>\n",
              "      <td>85.000000</td>\n",
              "      <td>3.140000</td>\n",
              "      <td>2.610000</td>\n",
              "      <td>0.700000</td>\n",
              "      <td>NaN</td>\n",
              "      <td>NaN</td>\n",
              "      <td>NaN</td>\n",
              "      <td>NaN</td>\n",
              "      <td>NaN</td>\n",
              "      <td>NaN</td>\n",
              "      <td>NaN</td>\n",
              "      <td>NaN</td>\n",
              "      <td>NaN</td>\n",
              "      <td>NaN</td>\n",
              "      <td>NaN</td>\n",
              "      <td>NaN</td>\n",
              "    </tr>\n",
              "    <tr>\n",
              "      <th>50%</th>\n",
              "      <td>94.500000</td>\n",
              "      <td>5.000000</td>\n",
              "      <td>NaN</td>\n",
              "      <td>58.000000</td>\n",
              "      <td>NaN</td>\n",
              "      <td>NaN</td>\n",
              "      <td>NaN</td>\n",
              "      <td>NaN</td>\n",
              "      <td>NaN</td>\n",
              "      <td>NaN</td>\n",
              "      <td>NaN</td>\n",
              "      <td>38.000000</td>\n",
              "      <td>92.000000</td>\n",
              "      <td>6.370000</td>\n",
              "      <td>3.590000</td>\n",
              "      <td>0.800000</td>\n",
              "      <td>NaN</td>\n",
              "      <td>NaN</td>\n",
              "      <td>NaN</td>\n",
              "      <td>NaN</td>\n",
              "      <td>NaN</td>\n",
              "      <td>NaN</td>\n",
              "      <td>NaN</td>\n",
              "      <td>NaN</td>\n",
              "      <td>NaN</td>\n",
              "      <td>NaN</td>\n",
              "      <td>NaN</td>\n",
              "      <td>NaN</td>\n",
              "    </tr>\n",
              "    <tr>\n",
              "      <th>75%</th>\n",
              "      <td>150.250000</td>\n",
              "      <td>9.000000</td>\n",
              "      <td>NaN</td>\n",
              "      <td>70.000000</td>\n",
              "      <td>NaN</td>\n",
              "      <td>NaN</td>\n",
              "      <td>NaN</td>\n",
              "      <td>NaN</td>\n",
              "      <td>NaN</td>\n",
              "      <td>NaN</td>\n",
              "      <td>NaN</td>\n",
              "      <td>39.000000</td>\n",
              "      <td>96.000000</td>\n",
              "      <td>6.875000</td>\n",
              "      <td>4.570000</td>\n",
              "      <td>1.200000</td>\n",
              "      <td>NaN</td>\n",
              "      <td>NaN</td>\n",
              "      <td>NaN</td>\n",
              "      <td>NaN</td>\n",
              "      <td>NaN</td>\n",
              "      <td>NaN</td>\n",
              "      <td>NaN</td>\n",
              "      <td>NaN</td>\n",
              "      <td>NaN</td>\n",
              "      <td>NaN</td>\n",
              "      <td>NaN</td>\n",
              "      <td>NaN</td>\n",
              "    </tr>\n",
              "    <tr>\n",
              "      <th>max</th>\n",
              "      <td>199.000000</td>\n",
              "      <td>35.000000</td>\n",
              "      <td>NaN</td>\n",
              "      <td>87.000000</td>\n",
              "      <td>NaN</td>\n",
              "      <td>NaN</td>\n",
              "      <td>NaN</td>\n",
              "      <td>NaN</td>\n",
              "      <td>NaN</td>\n",
              "      <td>NaN</td>\n",
              "      <td>NaN</td>\n",
              "      <td>95.000000</td>\n",
              "      <td>98.000000</td>\n",
              "      <td>11.200000</td>\n",
              "      <td>5.550000</td>\n",
              "      <td>1.730000</td>\n",
              "      <td>NaN</td>\n",
              "      <td>NaN</td>\n",
              "      <td>NaN</td>\n",
              "      <td>NaN</td>\n",
              "      <td>NaN</td>\n",
              "      <td>NaN</td>\n",
              "      <td>NaN</td>\n",
              "      <td>NaN</td>\n",
              "      <td>NaN</td>\n",
              "      <td>NaN</td>\n",
              "      <td>NaN</td>\n",
              "      <td>NaN</td>\n",
              "    </tr>\n",
              "  </tbody>\n",
              "</table>\n",
              "</div>"
            ],
            "text/plain": [
              "         patientid  ...                                        Unnamed: 27\n",
              "count   360.000000  ...                                                  4\n",
              "unique         NaN  ...                                                  3\n",
              "top            NaN  ...  Case courtesy of Dr Edgar Lorente, Radiopaedia...\n",
              "freq           NaN  ...                                                  2\n",
              "mean     96.916667  ...                                                NaN\n",
              "std      60.098005  ...                                                NaN\n",
              "min       2.000000  ...                                                NaN\n",
              "25%      39.750000  ...                                                NaN\n",
              "50%      94.500000  ...                                                NaN\n",
              "75%     150.250000  ...                                                NaN\n",
              "max     199.000000  ...                                                NaN\n",
              "\n",
              "[11 rows x 28 columns]"
            ]
          },
          "metadata": {
            "tags": []
          },
          "execution_count": 5
        }
      ]
    },
    {
      "cell_type": "code",
      "metadata": {
        "id": "Hw8jHhB2sPD_",
        "colab_type": "code",
        "outputId": "88e18926-90b7-4b5a-9728-88e58c52ea75",
        "colab": {
          "base_uri": "https://localhost:8080/",
          "height": 228
        }
      },
      "source": [
        "data['finding'].value_counts()"
      ],
      "execution_count": 0,
      "outputs": [
        {
          "output_type": "execute_result",
          "data": {
            "text/plain": [
              "COVID-19          284\n",
              "Streptococcus      17\n",
              "SARS               16\n",
              "Pneumocystis       15\n",
              "COVID-19, ARDS     12\n",
              "E.Coli              4\n",
              "ARDS                4\n",
              "No Finding          3\n",
              "Legionella          2\n",
              "Chlamydophila       2\n",
              "Klebsiella          1\n",
              "Name: finding, dtype: int64"
            ]
          },
          "metadata": {
            "tags": []
          },
          "execution_count": 6
        }
      ]
    },
    {
      "cell_type": "code",
      "metadata": {
        "id": "YDGuGxiSuZ9P",
        "colab_type": "code",
        "outputId": "e86f8287-e894-4bef-bd15-7014d05e1a4a",
        "colab": {
          "base_uri": "https://localhost:8080/",
          "height": 518
        }
      },
      "source": [
        "cases_count = data['finding'].value_counts()\n",
        "\n",
        "plt.figure(figsize=(15,8))\n",
        "sns.barplot(x=cases_count.index, y= cases_count.values)\n",
        "plt.title('Number of cases', fontsize=14)\n",
        "plt.xlabel('Case type', fontsize=12)\n",
        "plt.ylabel('Count', fontsize=12)\n",
        "plt.xticks(range(len(cases_count.index)), ['COVID-19','Streptococcus','SARS','Pneumocystis','COVID_ARDS','ARDS','E.Coli','No Finding','Legionella','Chlamydophila','Klebsiella'])\n",
        "plt.show()"
      ],
      "execution_count": 0,
      "outputs": [
        {
          "output_type": "display_data",
          "data": {
            "image/png": "[encoded data removed]",
            "text/plain": [
              "<Figure size 1080x576 with 1 Axes>"
            ]
          },
          "metadata": {
            "tags": [],
            "needs_background": "light"
          }
        }
      ]
    },
    {
      "cell_type": "code",
      "metadata": {
        "id": "mlT2CjR03eEk",
        "colab_type": "code",
        "outputId": "bd26b4b9-78ab-4bf4-96ad-d00736de24df",
        "colab": {
          "base_uri": "https://localhost:8080/",
          "height": 354
        }
      },
      "source": [
        "cases_count = data['finding'].value_counts()\n",
        "index = ['COVID-19','No Finding']\n",
        "value = [284,76]\n",
        "plt.figure(figsize=(3,5))\n",
        "sns.barplot(x=index, y= value)\n",
        "plt.title('Number of cases', fontsize=14)\n",
        "plt.xlabel('Case type', fontsize=12)\n",
        "plt.ylabel('Count', fontsize=12)\n",
        "# plt.xticks(range(len(cases_count.index), ['COVID-19','No Finding']))\n",
        "plt.show()"
      ],
      "execution_count": 0,
      "outputs": [
        {
          "output_type": "display_data",
          "data": {
            "image/png": "[encoded data removed]",
            "text/plain": [
              "<Figure size 216x360 with 1 Axes>"
            ]
          },
          "metadata": {
            "tags": [],
            "needs_background": "light"
          }
        }
      ]
    },
    {
      "cell_type": "code",
      "metadata": {
        "id": "mgZpndvVVuSJ",
        "colab_type": "code",
        "colab": {}
      },
      "source": [
        "def get_label(imgs):\n",
        "  for index, row in data.iterrows():\n",
        "    if str(imgs) == str(row['filename']):\n",
        "      if str(row['finding']) == 'COVID-19':\n",
        "        return 1\n",
        "      else:\n",
        "        return 0"
      ],
      "execution_count": 0,
      "outputs": []
    },
    {
      "cell_type": "code",
      "metadata": {
        "id": "vs7rzMbfxsie",
        "colab_type": "code",
        "outputId": "326a41a9-e190-4a0a-aeba-751fe74cff90",
        "colab": {
          "base_uri": "https://localhost:8080/",
          "height": 35
        }
      },
      "source": [
        "data_dir = Path('covid-chestxray-dataset/images/')\n",
        "IMG_SIZE = 150\n",
        "\n",
        "train_data = []\n",
        "output = []\n",
        "count_0 = 0\n",
        "count_1 = 0\n",
        "for img in tqdm(os.listdir(data_dir)):\n",
        "  label= get_label(img)\n",
        " \n",
        "  if label is not None:\n",
        "    if label == 0:\n",
        "      if count_0 < 70:\n",
        "        path = os.path.join(data_dir,img)\n",
        "        img = cv2.imread(path,cv2.IMREAD_GRAYSCALE)\n",
        "        img = cv2.resize(img, (IMG_SIZE,IMG_SIZE))\n",
        "        img = img.astype('float32')\n",
        "        img /= 255\n",
        "        train_data.append(np.array(img).reshape((IMG_SIZE,IMG_SIZE,1)))\n",
        "        output.append(np.array(label))\n",
        "      count_0 += 1\n",
        "    elif label == 1:\n",
        "      if count_1 < 70:\n",
        "        path = os.path.join(data_dir,img)\n",
        "        img = cv2.imread(path,cv2.IMREAD_GRAYSCALE)\n",
        "        img = cv2.resize(img, (IMG_SIZE,IMG_SIZE))\n",
        "        img = img.astype('float32')\n",
        "        img /= 255\n",
        "        train_data.append(np.array(img).reshape((IMG_SIZE,IMG_SIZE,1)))\n",
        "        output.append(np.array(label))\n",
        "        \n",
        "       \n",
        "      count_1 += 1\n",
        "\n",
        "train_data = np.array(train_data)\n",
        "output = np.array(output)\n",
        "shuffle(train_data)\n",
        "np.save('train_data.npy', train_data)"
      ],
      "execution_count": 0,
      "outputs": [
        {
          "output_type": "stream",
          "text": [
            "100%|██████████| 343/343 [00:11<00:00, 28.65it/s]\n"
          ],
          "name": "stderr"
        }
      ]
    },
    {
      "cell_type": "code",
      "metadata": {
        "id": "nMR6URy2UIvr",
        "colab_type": "code",
        "outputId": "232bc041-7e02-47a9-ceb9-a3d2b8cd267b",
        "colab": {
          "base_uri": "https://localhost:8080/",
          "height": 35
        }
      },
      "source": [
        "print(train_data.shape)"
      ],
      "execution_count": 0,
      "outputs": [
        {
          "output_type": "stream",
          "text": [
            "(140, 150, 150, 1)\n"
          ],
          "name": "stdout"
        }
      ]
    },
    {
      "cell_type": "code",
      "metadata": {
        "id": "nMTrpwXFRer0",
        "colab_type": "code",
        "outputId": "996c91c0-423d-4c9e-9138-a0dc0bf8f30b",
        "colab": {
          "base_uri": "https://localhost:8080/",
          "height": 35
        }
      },
      "source": [
        "print(output.shape)"
      ],
      "execution_count": 0,
      "outputs": [
        {
          "output_type": "stream",
          "text": [
            "(140,)\n"
          ],
          "name": "stdout"
        }
      ]
    },
    {
      "cell_type": "code",
      "metadata": {
        "id": "fca8SC39Vijq",
        "colab_type": "code",
        "outputId": "1db0792e-2900-4c57-cce5-1c4b6324f0ad",
        "colab": {
          "base_uri": "https://localhost:8080/",
          "height": 54
        }
      },
      "source": [
        "series_new = []\n",
        "output_new = []\n",
        "\n",
        "for i in range(output.shape[0]):\n",
        "  if output[i] == 0:\n",
        "    series_new += [train_data[i]]\n",
        "    output_new += [output[i]]\n",
        "\n",
        "  elif output[i] == 1:\n",
        "    series_new += [train_data[i]]\n",
        "    output_new += [output[i]]\n",
        "\n",
        "\n",
        "series_new = np.array(series_new)\n",
        "output_new = np.array(output_new)\n",
        "\n",
        "print(series_new.shape)\n",
        "print(output_new.shape)"
      ],
      "execution_count": 0,
      "outputs": [
        {
          "output_type": "stream",
          "text": [
            "(140, 150, 150, 1)\n",
            "(140,)\n"
          ],
          "name": "stdout"
        }
      ]
    },
    {
      "cell_type": "code",
      "metadata": {
        "id": "0eAcKJIRUbxE",
        "colab_type": "code",
        "colab": {}
      },
      "source": [
        "def euclidean_distance(vects):\n",
        "    x, y = vects\n",
        "    sum_square = K.sum(K.square(x - y), axis=1, keepdims=True)\n",
        "    return K.sqrt(K.maximum(sum_square, K.epsilon()))"
      ],
      "execution_count": 0,
      "outputs": []
    },
    {
      "cell_type": "code",
      "metadata": {
        "id": "3yRzm3z8Ufk_",
        "colab_type": "code",
        "colab": {}
      },
      "source": [
        "def eucl_dist_output_shape(shapes):\n",
        "    shape1, shape2 = shapes\n",
        "    return (shape1[0], 1)"
      ],
      "execution_count": 0,
      "outputs": []
    },
    {
      "cell_type": "code",
      "metadata": {
        "id": "aoKEJdmhUiH4",
        "colab_type": "code",
        "colab": {}
      },
      "source": [
        "def contrastive_loss(y_true, y_pred):\n",
        "    margin = 1\n",
        "    square_pred = K.square(y_pred)\n",
        "    margin_square = K.square(K.maximum(margin - y_pred, 0))\n",
        "    return K.mean(y_true * square_pred + (1 - y_true) * margin_square)"
      ],
      "execution_count": 0,
      "outputs": []
    },
    {
      "cell_type": "code",
      "metadata": {
        "id": "VzKiNXXbUtqQ",
        "colab_type": "code",
        "colab": {}
      },
      "source": [
        "def compute_accuracy(y_true, y_pred):\n",
        "    pred = y_pred.ravel() < 0.5\n",
        "    return np.mean(pred == y_true)"
      ],
      "execution_count": 0,
      "outputs": []
    },
    {
      "cell_type": "code",
      "metadata": {
        "id": "dgHBwL1NUwBB",
        "colab_type": "code",
        "colab": {}
      },
      "source": [
        "def accuracy(y_true, y_pred):\n",
        "    return K.mean(K.equal(y_true, K.cast(y_pred < 0.5, y_true.dtype)))"
      ],
      "execution_count": 0,
      "outputs": []
    },
    {
      "cell_type": "code",
      "metadata": {
        "id": "VULZKleUUy6R",
        "colab_type": "code",
        "colab": {}
      },
      "source": [
        "def get_data(data, output, name):\n",
        "  pair_0 = []\n",
        "  pair_1 = []\n",
        "\n",
        "  for i in range(len(output)):\n",
        "    if int(output[i]) == 0:\n",
        "      pair_0.append(data[i])\n",
        "    else:\n",
        "      pair_1.append(data[i])\n",
        "\n",
        "  pair_0 = np.array(pair_0)\n",
        "  pair_1 = np.array(pair_1)\n",
        "\n",
        "  print(name + \": The length of the pair_0 is \" + str(pair_0.shape))\n",
        "  print(name + \": The length of the pair_1 is \" + str(pair_1.shape))\n",
        "  \n",
        "  return pair_0, pair_1"
      ],
      "execution_count": 0,
      "outputs": []
    },
    {
      "cell_type": "code",
      "metadata": {
        "id": "eExZTuLBU6a4",
        "colab_type": "code",
        "colab": {}
      },
      "source": [
        "def process_data():\n",
        "\n",
        "  pair_all_0, pair_all_1 = get_data(series_new, output_new, \"All pairs\",)\n",
        "\n",
        "  combined_pairs = compine_negative_positive_pair(pair_all_0,pair_all_1,  \"All pairs\")\n",
        "\n",
        "  return (combined_pairs)"
      ],
      "execution_count": 0,
      "outputs": []
    },
    {
      "cell_type": "code",
      "metadata": {
        "id": "mBzck6CQU-4X",
        "colab_type": "code",
        "colab": {}
      },
      "source": [
        "def create_positive_pair(pair_0,pair_1, name):\n",
        "  input_data_positive = []\n",
        "  i = 0\n",
        "  count_0 = len(pair_0)\n",
        "  count_1 = len(pair_1)\n",
        "  threshold = count_0 * count_1 / 2\n",
        "\n",
        "  for Pair_0 in pair_0:\n",
        "    if i < threshold:\n",
        "      for Pair_1 in pair_0:\n",
        "        input_data_positive += [[np.array(Pair_0),np.array(Pair_1),1]]\n",
        "        i += 1\n",
        "\n",
        "  for Pair_0 in pair_1:\n",
        "    if i < count_0 * count_1:\n",
        "      for Pair_1 in pair_1:\n",
        "        input_data_positive += [[np.array(Pair_0),np.array(Pair_1),1]]\n",
        "        i += 1\n",
        "\n",
        "  input_data_positive = np.array(input_data_positive)\n",
        "  print(name + \": The length of the Positive Samples is \" + str(input_data_positive.shape))\n",
        "  \n",
        "  return input_data_positive"
      ],
      "execution_count": 0,
      "outputs": []
    },
    {
      "cell_type": "code",
      "metadata": {
        "id": "zxugmAbeVIbR",
        "colab_type": "code",
        "colab": {}
      },
      "source": [
        "def create_negative_pair(pair_0,pair_1, name):\n",
        "  input_data_negative = []\n",
        "  for Pair_0 in pair_0:\n",
        "    for Pair_1 in pair_1:\n",
        "      input_data_negative += [[np.array(Pair_0),np.array(Pair_1),0]]\n",
        "\n",
        "  input_data_negative = np.array(input_data_negative)\n",
        "  print(name + \": The length of the Negative Samples is \" + str(input_data_negative.shape))\n",
        "  \n",
        "  return input_data_negative"
      ],
      "execution_count": 0,
      "outputs": []
    },
    {
      "cell_type": "code",
      "metadata": {
        "id": "hm3Yb8rzVLv4",
        "colab_type": "code",
        "colab": {}
      },
      "source": [
        "def compine_negative_positive_pair(pair_0,pair_1, name):\n",
        "  input_data_negative = create_negative_pair(pair_0,pair_1, name)\n",
        "  input_data_positive = create_positive_pair(pair_0,pair_1, name)\n",
        "  input_array_final = []\n",
        "  count_negative = 0\n",
        "  count_positive = 0\n",
        "\n",
        "  while count_negative < len(input_data_negative) and count_positive < len(input_data_positive):\n",
        "    n = random.randint(0, 1)\n",
        "\n",
        "    if count_positive == len(input_data_positive):\n",
        "      n = 0\n",
        "\n",
        "    if count_negative == len(input_data_negative):\n",
        "      n = 1\n",
        "\n",
        "    if n == 0 and count_negative < len(input_data_negative):\n",
        "      input_array_final += [input_data_negative[count_negative]]\n",
        "      count_negative += 1\n",
        "    elif n == 1 and count_positive < len(input_data_positive):\n",
        "      input_array_final += [input_data_positive[count_positive]]\n",
        "      count_positive += 1\n",
        "\n",
        "  input_array_final = np.array(input_array_final)\n",
        "  print(name + \": The length of All Samples is \" + str(input_array_final.shape))\n",
        "  \n",
        "  return input_array_final"
      ],
      "execution_count": 0,
      "outputs": []
    },
    {
      "cell_type": "code",
      "metadata": {
        "id": "FCtbMuHgVOnJ",
        "colab_type": "code",
        "outputId": "cd84399d-1363-46d4-b308-8911c824c792",
        "colab": {
          "base_uri": "https://localhost:8080/",
          "height": 181
        }
      },
      "source": [
        "import random as random\n",
        "\n",
        "all_pairs = process_data()\n",
        "slicing = int(0.7 * len(all_pairs))\n",
        "\n",
        "training_pairs = all_pairs[0:slicing,:]\n",
        "testing_pairs = all_pairs[slicing:-1,:]\n",
        "\n",
        "training_output = training_pairs[:,2]\n",
        "testing_output = testing_pairs[:,2]\n",
        "\n",
        "training_pairs = np.delete(training_pairs,2,1)\n",
        "testing_pairs = np.delete(testing_pairs,2,1)\n",
        "\n",
        "training_sets = []\n",
        "testing_sets = []\n",
        "\n",
        "for i in range(len(training_pairs)):\n",
        "  training_sets += [[training_pairs[i][0], training_pairs[i][1]]]\n",
        "\n",
        "for i in range(len(testing_pairs)):\n",
        "  testing_sets += [[testing_pairs[i][0], testing_pairs[i][1]]]\n",
        "\n",
        "training_sets = np.array(training_sets)\n",
        "testing_sets = np.array(testing_sets)\n",
        "\n",
        "validation_size = int(0.7 * testing_sets.shape[0])\n",
        "\n",
        "validation_sets = testing_sets[validation_size:-1]\n",
        "testing_sets = testing_sets[0:validation_size]\n",
        "\n",
        "validation_output = testing_output[validation_size:-1]\n",
        "testing_output = testing_output[0:validation_size]\n",
        "\n",
        "input_shape = (IMG_SIZE,IMG_SIZE,1)\n",
        "print(f'input_shape is {input_shape}')\n",
        "\n",
        "print(f'training  sets shape is {training_sets.shape}')\n",
        "print(f'validation sets shape is {validation_sets.shape}')\n",
        "print(f'testing sets shape is {testing_sets.shape}')"
      ],
      "execution_count": 0,
      "outputs": [
        {
          "output_type": "stream",
          "text": [
            "All pairs: The length of the pair_0 is (70, 150, 150, 1)\n",
            "All pairs: The length of the pair_1 is (70, 150, 150, 1)\n",
            "All pairs: The length of the Negative Samples is (4900, 3)\n",
            "All pairs: The length of the Positive Samples is (4900, 3)\n",
            "All pairs: The length of All Samples is (9747, 3)\n",
            "input_shape is (150, 150, 1)\n",
            "training  sets shape is (6822, 2, 150, 150, 1)\n",
            "validation sets shape is (877, 2, 150, 150, 1)\n",
            "testing sets shape is (2046, 2, 150, 150, 1)\n"
          ],
          "name": "stdout"
        }
      ]
    },
    {
      "cell_type": "code",
      "metadata": {
        "id": "y5BY0kAj6KaS",
        "colab_type": "code",
        "colab": {}
      },
      "source": [
        "def build_model():\n",
        "    input_img = Input(shape=(IMG_SIZE,IMG_SIZE,1), name='ImageInput')\n",
        "    x = Conv2D(64, (3,3), activation='relu', padding='same', name='Conv1_1')(input_img)\n",
        "    x = Conv2D(64, (3,3), activation='relu', padding='same', name='Conv1_2')(x)\n",
        "    x = MaxPooling2D((2,2), name='pool1')(x)\n",
        "    \n",
        "    x = SeparableConv2D(128, (3,3), activation='relu', padding='same', name='Conv2_1')(x)\n",
        "    x = SeparableConv2D(128, (3,3), activation='relu', padding='same', name='Conv2_2')(x)\n",
        "    x = MaxPooling2D((2,2), name='pool2')(x)\n",
        "    \n",
        "    x = SeparableConv2D(256, (3,3), activation='relu', padding='same', name='Conv3_1')(x)\n",
        "    x = BatchNormalization(name='bn1')(x)\n",
        "    x = SeparableConv2D(256, (3,3), activation='relu', padding='same', name='Conv3_2')(x)\n",
        "    x = BatchNormalization(name='bn2')(x)\n",
        "    x = SeparableConv2D(256, (3,3), activation='relu', padding='same', name='Conv3_3')(x)\n",
        "    x = MaxPooling2D((2,2), name='pool3')(x)\n",
        "    \n",
        "    x = SeparableConv2D(512, (3,3), activation='relu', padding='same', name='Conv4_1')(x)\n",
        "    x = BatchNormalization(name='bn3')(x)\n",
        "    x = SeparableConv2D(512, (3,3), activation='relu', padding='same', name='Conv4_2')(x)\n",
        "    x = BatchNormalization(name='bn4')(x)\n",
        "    x = SeparableConv2D(512, (3,3), activation='relu', padding='same', name='Conv4_3')(x)\n",
        "    x = MaxPooling2D((2,2), name='pool4')(x)\n",
        "    \n",
        "    x = Flatten(name='flatten')(x)\n",
        "    x = Dense(1024, activation='relu', name='fc1')(x)\n",
        "    x = Dropout(0.7, name='dropout1')(x)\n",
        "    x = Dense(512, activation='relu', name='fc2')(x)\n",
        "    x = Dropout(0.5, name='dropout2')(x)\n",
        "    x = Dense(512, activation='relu', name='fc3')(x)\n",
        "    \n",
        "    model = Model(inputs=input_img, outputs=x)\n",
        "    return model"
      ],
      "execution_count": 0,
      "outputs": []
    },
    {
      "cell_type": "code",
      "metadata": {
        "id": "9LS4UmC7X-37",
        "colab_type": "code",
        "colab": {}
      },
      "source": [
        "base_network = build_model()\n",
        "\n",
        "input_a = Input(shape=input_shape)\n",
        "input_b = Input(shape=input_shape)\n",
        "\n",
        "processed_a = base_network(input_a)\n",
        "processed_b = base_network(input_b)\n",
        "\n",
        "distance = Lambda(euclidean_distance,output_shape=eucl_dist_output_shape)([processed_a, processed_b])\n",
        "\n",
        "model = Model([input_a, input_b], distance)\n",
        "opt = Adam(lr=0.0001, decay=1e-6)\n",
        "\n",
        "rms = RMSprop()\n",
        "model.compile(loss=contrastive_loss, optimizer=opt, metrics=[accuracy])\n",
        "earlyStopping = EarlyStopping(monitor='val_loss', min_delta=1e-3, patience=30, verbose=1, mode='auto',restore_best_weights=True)"
      ],
      "execution_count": 0,
      "outputs": []
    },
    {
      "cell_type": "code",
      "metadata": {
        "id": "grJB_HGhYehy",
        "colab_type": "code",
        "colab": {}
      },
      "source": [
        "epochs = 100\n",
        "history = model.fit([training_sets[:,0][:], training_sets[:,1][:]], training_output,\n",
        "          batch_size=16,\n",
        "          epochs=epochs,\n",
        "          validation_data=([validation_sets[:, 0], validation_sets[:, 1]], validation_output),\n",
        "          callbacks=[earlyStopping]\n",
        "          )"
      ],
      "execution_count": 0,
      "outputs": []
    },
    {
      "cell_type": "code",
      "metadata": {
        "id": "K5GhkSe-Hzz7",
        "colab_type": "code",
        "outputId": "bfabbbc9-23f5-4e38-8f01-1f4710f1ad88",
        "colab": {
          "base_uri": "https://localhost:8080/",
          "height": 54
        }
      },
      "source": [
        "# # compute final accuracy on training and test sets\n",
        "y_pred = model.predict([training_sets[:, 0], training_sets[:, 1]])\n",
        "tr_acc = compute_accuracy(training_output, y_pred)\n",
        "y_pred = model.predict([testing_sets[:, 0], testing_sets[:, 1]])\n",
        "\n",
        "te_acc = compute_accuracy(testing_output, y_pred)\n",
        "print('* Accuracy on training set: %0.2f%%' % (100 * tr_acc))\n",
        "print('* Accuracy on test set: %0.2f%%' % (100 * te_acc))"
      ],
      "execution_count": 0,
      "outputs": [
        {
          "output_type": "stream",
          "text": [
            "* Accuracy on training set: 63.14%\n",
            "* Accuracy on test set: 67.04%\n"
          ],
          "name": "stdout"
        }
      ]
    },
    {
      "cell_type": "code",
      "metadata": {
        "id": "RjaOhKDV8KVt",
        "colab_type": "code",
        "outputId": "9cc19535-34f8-4298-f35c-20ad600a94da",
        "colab": {
          "base_uri": "https://localhost:8080/",
          "height": 35
        }
      },
      "source": [
        "print(np.argmax(y_pred))"
      ],
      "execution_count": 0,
      "outputs": [
        {
          "output_type": "stream",
          "text": [
            "148\n"
          ],
          "name": "stdout"
        }
      ]
    },
    {
      "cell_type": "code",
      "metadata": {
        "id": "4js6q2Gn9FF5",
        "colab_type": "code",
        "colab": {}
      },
      "source": [
        "# pred = np.around(y_pred).astype('int32').reshape(size)\n",
        "pred = y_pred.ravel() < 0.5\n",
        "true = testing_output.astype('int32').reshape(size)\n",
        "for i in range(pred.shape[0]):\n",
        "  if pred[i] == true[i]:\n",
        "    print(i)\n",
        "\n",
        "# print(pred[148])"
      ],
      "execution_count": 0,
      "outputs": []
    },
    {
      "cell_type": "code",
      "metadata": {
        "id": "soZkpYuwP_KG",
        "colab_type": "code",
        "outputId": "153301da-ad10-45d0-de5b-92b8a86ab2a6",
        "colab": {
          "base_uri": "https://localhost:8080/",
          "height": 295
        }
      },
      "source": [
        "import matplotlib.pyplot as plt\n",
        "loss = history.history['loss']\n",
        "val_loss = history.history['val_loss']\n",
        "epochs = range(1, len(loss) + 1)\n",
        "plt.plot(epochs, loss, color='red', label='Training loss')\n",
        "plt.plot(epochs, val_loss, color='green', label='Validation loss')\n",
        "plt.title('Training and validation loss')\n",
        "plt.xlabel('Epochs')\n",
        "plt.ylabel('Loss')\n",
        "plt.legend()\n",
        "plt.show()"
      ],
      "execution_count": 0,
      "outputs": [
        {
          "output_type": "display_data",
          "data": {
            "image/png": "[encoded data removed]",
            "text/plain": [
              "<Figure size 432x288 with 1 Axes>"
            ]
          },
          "metadata": {
            "tags": [],
            "needs_background": "light"
          }
        }
      ]
    },
    {
      "cell_type": "code",
      "metadata": {
        "id": "brSrHNKTQGnX",
        "colab_type": "code",
        "outputId": "419211c1-4bf2-4473-ed79-68e4ba5e5a0a",
        "colab": {
          "base_uri": "https://localhost:8080/",
          "height": 295
        }
      },
      "source": [
        "acc = history.history['accuracy']\n",
        "val_acc = history.history['val_accuracy']\n",
        "plt.plot(epochs, acc, color='red', label='Training acc')\n",
        "plt.plot(epochs, val_acc, color='green', label='Validation acc')\n",
        "plt.title('Training and validation accuracy')\n",
        "plt.xlabel('Epochs')\n",
        "plt.ylabel('accuracy')\n",
        "plt.legend()\n",
        "plt.show()"
      ],
      "execution_count": 0,
      "outputs": [
        {
          "output_type": "display_data",
          "data": {
            "image/png": "[encoded data removed]",
            "text/plain": [
              "<Figure size 432x288 with 1 Axes>"
            ]
          },
          "metadata": {
            "tags": [],
            "needs_background": "light"
          }
        }
      ]
    },
    {
      "cell_type": "code",
      "metadata": {
        "id": "djGIwWXn-X-I",
        "colab_type": "code",
        "outputId": "58bac757-175e-49de-c437-28d32e725cef",
        "colab": {
          "base_uri": "https://localhost:8080/",
          "height": 181
        }
      },
      "source": [
        "from sklearn.metrics import classification_report\n",
        "size = testing_output.shape[0]\n",
        "pred = y_pred.ravel() < 0.5\n",
        "true = testing_output.astype('int32').reshape(size)\n",
        "print(classification_report(true, pred))"
      ],
      "execution_count": 0,
      "outputs": [
        {
          "output_type": "stream",
          "text": [
            "              precision    recall  f1-score   support\n",
            "\n",
            "           0       0.72      0.52      0.60       983\n",
            "           1       0.65      0.81      0.72      1065\n",
            "\n",
            "    accuracy                           0.67      2048\n",
            "   macro avg       0.68      0.66      0.66      2048\n",
            "weighted avg       0.68      0.67      0.66      2048\n",
            "\n"
          ],
          "name": "stdout"
        }
      ]
    },
    {
      "cell_type": "code",
      "metadata": {
        "id": "d7A_CpbY-jyb",
        "colab_type": "code",
        "outputId": "6f88a16a-96b2-4fd9-a18d-6595b6b0b602",
        "colab": {
          "base_uri": "https://localhost:8080/",
          "height": 483
        }
      },
      "source": [
        "from sklearn.metrics import confusion_matrix\n",
        "import seaborn as sns\n",
        "\n",
        "size = testing_output.shape[0]\n",
        "pred = y_pred.ravel() < 0.5\n",
        "true = testing_output.astype('int32').reshape(size)\n",
        "\n",
        "confusion_mtx = confusion_matrix(true,pred) \n",
        "\n",
        "plt.figure(figsize=(10,8))\n",
        "sns.heatmap(confusion_mtx, annot=True, fmt=\"d\");"
      ],
      "execution_count": 0,
      "outputs": [
        {
          "output_type": "display_data",
          "data": {
            "image/png": "[encoded data removed]",
            "text/plain": [
              "<Figure size 720x576 with 2 Axes>"
            ]
          },
          "metadata": {
            "tags": [],
            "needs_background": "light"
          }
        }
      ]
    },
    {
      "cell_type": "code",
      "metadata": {
        "id": "Tlc6AzYKKkW4",
        "colab_type": "code",
        "outputId": "0abee7c4-9777-4678-f4ce-644a2b98e7b1",
        "colab": {
          "base_uri": "https://localhost:8080/",
          "height": 295
        }
      },
      "source": [
        "from sklearn.metrics import roc_auc_score\n",
        "from sklearn.metrics import roc_curve\n",
        "\n",
        "size = testing_output.shape[0]\n",
        "pred = y_pred.ravel() < 0.5\n",
        "true = testing_output.astype('int32').reshape(size)\n",
        "\n",
        "logit_roc_auc = roc_auc_score(true, pred)\n",
        "fpr, tpr, thresholds = roc_curve(true, pred)\n",
        "plt.figure()\n",
        "plt.plot(fpr, tpr, label='Convolutional Neural Networks (area = %0.2f)' % logit_roc_auc)\n",
        "plt.plot([0, 1], [0, 1],'r--')\n",
        "plt.xlim([0.0, 1.0])\n",
        "plt.ylim([0.0, 1.05])\n",
        "plt.xlabel('False Positive Rate')\n",
        "plt.ylabel('True Positive Rate')\n",
        "plt.title('Receiver operating characteristic')\n",
        "plt.legend(loc=\"lower right\")\n",
        "plt.savefig('Log_ROC')\n",
        "plt.show()"
      ],
      "execution_count": 0,
      "outputs": [
        {
          "output_type": "display_data",
          "data": {
            "image/png": "[encoded data removed]",
            "text/plain": [
              "<Figure size 432x288 with 1 Axes>"
            ]
          },
          "metadata": {
            "tags": [],
            "needs_background": "light"
          }
        }
      ]
    },
    {
      "cell_type": "code",
      "metadata": {
        "id": "cghDJD4C_KAc",
        "colab_type": "code",
        "outputId": "2514ae4b-fc5f-43fd-f01c-97740601e8c3",
        "colab": {
          "base_uri": "https://localhost:8080/",
          "height": 72
        }
      },
      "source": [
        "!pip install h5py"
      ],
      "execution_count": 0,
      "outputs": [
        {
          "output_type": "stream",
          "text": [
            "Requirement already satisfied: h5py in /usr/local/lib/python3.6/dist-packages (2.10.0)\n",
            "Requirement already satisfied: six in /usr/local/lib/python3.6/dist-packages (from h5py) (1.12.0)\n",
            "Requirement already satisfied: numpy>=1.7 in /usr/local/lib/python3.6/dist-packages (from h5py) (1.18.4)\n"
          ],
          "name": "stdout"
        }
      ]
    },
    {
      "cell_type": "code",
      "metadata": {
        "id": "x42eI9Ch_Vwh",
        "colab_type": "code",
        "colab": {}
      },
      "source": [
        "from keras.models import model_from_json"
      ],
      "execution_count": 0,
      "outputs": []
    },
    {
      "cell_type": "code",
      "metadata": {
        "id": "wH98eKly_bWC",
        "colab_type": "code",
        "outputId": "5e3a91a7-4b6e-461c-f507-56d4fd7f162b",
        "colab": {
          "base_uri": "https://localhost:8080/",
          "height": 35
        }
      },
      "source": [
        "# serialize model to JSON\n",
        "model_json = model.to_json()\n",
        "with open(\"model.json\", \"w\") as json_file:\n",
        "    json_file.write(model_json)\n",
        "# serialize weights to HDF5\n",
        "model.save_weights(\"model.h5\")\n",
        "print(\"Saved model to disk\")\n"
      ],
      "execution_count": 0,
      "outputs": [
        {
          "output_type": "stream",
          "text": [
            "Saved model to disk\n"
          ],
          "name": "stdout"
        }
      ]
    },
    {
      "cell_type": "code",
      "metadata": {
        "id": "4B5Nk8-f_3hj",
        "colab_type": "code",
        "outputId": "6e539086-a7e1-4321-8003-65072ad8a2b2",
        "colab": {
          "base_uri": "https://localhost:8080/",
          "height": 72
        }
      },
      "source": [
        "# !pip install pydot-ng"
      ],
      "execution_count": 0,
      "outputs": [
        {
          "output_type": "stream",
          "text": [
            "Requirement already satisfied: pydot-ng in /usr/local/lib/python3.6/dist-packages (2.0.0)\n",
            "Requirement already satisfied: pyparsing>=2.0.1 in /usr/local/lib/python3.6/dist-packages (from pydot-ng) (2.4.7)\n"
          ],
          "name": "stdout"
        }
      ]
    },
    {
      "cell_type": "code",
      "metadata": {
        "id": "C7LW7HHg_-4y",
        "colab_type": "code",
        "outputId": "5816b195-1b9f-42b9-c9e6-21b0c791edfd",
        "colab": {
          "base_uri": "https://localhost:8080/",
          "height": 55
        }
      },
      "source": [
        "# !pip install graphviz"
      ],
      "execution_count": 0,
      "outputs": [
        {
          "output_type": "stream",
          "text": [
            "Requirement already satisfied: graphviz in /usr/local/lib/python3.6/dist-packages (0.10.1)\n"
          ],
          "name": "stdout"
        }
      ]
    },
    {
      "cell_type": "code",
      "metadata": {
        "id": "ZLU9TUmGBoU1",
        "colab_type": "code",
        "colab": {}
      },
      "source": [
        ""
      ],
      "execution_count": 0,
      "outputs": []
    },
    {
      "cell_type": "code",
      "metadata": {
        "id": "8OhdIgxXAQY3",
        "colab_type": "code",
        "colab": {}
      },
      "source": [
        "from keras.utils.vis_utils import plot_model\n",
        "model_graph = build_model()\n",
        "graph = plot_model(model, to_file='my_model.png', show_shapes=True)"
      ],
      "execution_count": 0,
      "outputs": []
    }
  ]
}